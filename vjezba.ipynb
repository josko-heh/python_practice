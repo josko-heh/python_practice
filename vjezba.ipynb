{
 "metadata": {
  "language_info": {
   "codemirror_mode": {
    "name": "ipython",
    "version": 3
   },
   "file_extension": ".py",
   "mimetype": "text/x-python",
   "name": "python",
   "nbconvert_exporter": "python",
   "pygments_lexer": "ipython3",
   "version": "3.9.0-final"
  },
  "orig_nbformat": 2,
  "kernelspec": {
   "name": "Python 3.9.0 64-bit",
   "display_name": "Python 3.9.0 64-bit",
   "metadata": {
    "interpreter": {
     "hash": "7a7a2e77413ae1e57ff9b103e7f842ceb6fc591ae0f2ba3686463f0d5f848ee5"
    }
   }
  }
 },
 "nbformat": 4,
 "nbformat_minor": 2,
 "cells": [
  {
   "cell_type": "code",
   "execution_count": 15,
   "metadata": {},
   "outputs": [
    {
     "output_type": "stream",
     "name": "stdout",
     "text": [
      "{'cc'}\n"
     ]
    }
   ],
   "source": [
    "#23\n",
    "\n",
    "def findPalindrome(word):\n",
    "    #generate all substrings\n",
    "    substrings = []\n",
    "    # Pick starting point \n",
    "    for length in range(1,len(word) + 1):       \n",
    "        # Pick ending point \n",
    "        for i in range(len(word) - length + 1):\n",
    "            # Print characters from current starting point to current ending point.  \n",
    "            j = i + length - 1\n",
    "            substring = \"\";\n",
    "            for k in range(i,j + 1): \n",
    "                substring += word[k] \n",
    "            substrings += [substring];   \n",
    "\n",
    "    #delete substrings containing one letter\n",
    "    substrings = set(filter(lambda x: len(x)!=1, substrings))\n",
    "    #print(substrings)\n",
    "    \n",
    "    reversedSubstrings = set(map(lambda x: \"\".join(reversed(x)), substrings))\n",
    "    #print(reversedSubstrings)\n",
    "\n",
    "    print(substrings & reversedSubstrings)\n",
    "\n",
    "findPalindrome(\"abcca\")"
   ]
  },
  {
   "cell_type": "code",
   "execution_count": 33,
   "metadata": {},
   "outputs": [
    {
     "output_type": "execute_result",
     "data": {
      "text/plain": [
       "True"
      ]
     },
     "metadata": {},
     "execution_count": 33
    }
   ],
   "source": [
    "#24\n",
    "\n",
    "def anagram1(s1, s2):\n",
    "    s1 = sorted(s1)\n",
    "    s2 = sorted(s2)\n",
    "\n",
    "    return s1 == s2\n",
    "\n",
    "def anagram2(s1, s2):\n",
    "    if len(s1) != len(s2):\n",
    "        return False\n",
    "\n",
    "    s1mapa = {}\n",
    "    s2mapa = {}\n",
    "    for i, e in enumerate(s1):\n",
    "        s1mapa[i] = e\n",
    "    for i, e in enumerate(s2):\n",
    "        s2mapa[i] = e\n",
    "\n",
    "    for i in s1mapa.keys():\n",
    "        if s1mapa[i] not in s2mapa.values():\n",
    "            return False\n",
    "        \n",
    "    return True \n",
    "\n",
    "def anagram3(s1, s2):\n",
    "    if len(s1) != len(s2):\n",
    "        return False\n",
    "\n",
    "    return not (set(s1) - set(s2)) \n",
    "\n",
    "\n",
    "anagram3(\"jido\", \"ojid\")"
   ]
  },
  {
   "cell_type": "code",
   "execution_count": 50,
   "metadata": {},
   "outputs": [
    {
     "output_type": "stream",
     "name": "stdout",
     "text": [
      "True\n[4, 4, 5, 8, 8, 9, 4]\n[4, 4]\n[5, 6, 7]\nTrue\n\nTrue\n\nTrue\n[4, 4, 5, 8, 8, 9, 4]\n[4, 4]\n[5, 6, 7]\nTrue\n"
     ]
    }
   ],
   "source": [
    "#25\n",
    "\n",
    "class MultisetSamostalni():\n",
    "    lista = []\n",
    "\n",
    "    def __init__(self, x):\n",
    "        self.lista = list(x)\n",
    "\n",
    "    def provjera_elementa(self, element):\n",
    "        return element in self.lista\n",
    "\n",
    "    def unija(self, elementi):\n",
    "        return self.lista + list(elementi)\n",
    "\n",
    "    def presjek(self, elementi):\n",
    "        return [value for value in self.lista if value in elementi]\n",
    "\n",
    "    def razlika(self, elementi):\n",
    "        return [i for i in self.lista + elementi if i not in self.lista or i not in elementi]\n",
    "\n",
    "    def jednakost(self, elementi):\n",
    "        mapaSelfListe = {}\n",
    "        mapaElementi = {}\n",
    "\n",
    "        for i in self.lista:\n",
    "            if(i in mapaSelfListe.keys()):\n",
    "                mapaSelfListe[i] += 1\n",
    "            else:\n",
    "                mapaSelfListe[i] = 1\n",
    "        for i in elementi:\n",
    "            if(i in mapaElementi.keys()):\n",
    "                mapaElementi[i] += 1\n",
    "            else:\n",
    "                mapaElementi[i] = 1\n",
    "\n",
    "        return mapaElementi == mapaSelfListe\n",
    "\n",
    "\n",
    "class Multiset(set):\n",
    "    lista = []\n",
    "\n",
    "    def __init__(self, x):\n",
    "        self.lista = list(x)\n",
    "        super().__init__(x)\n",
    "\n",
    "    def provjera_elementa(self, element):\n",
    "        return element in self.lista\n",
    "\n",
    "    def unija(self, elementi):\n",
    "        return self.lista + list(elementi)\n",
    "\n",
    "    def presjek(self, elementi):\n",
    "        return [value for value in self.lista if value in elementi]\n",
    "\n",
    "    def razlika(self, elementi):\n",
    "        return [i for i in self.lista + list(elementi) if i not in self.lista or i not in list(elementi)]\n",
    "\n",
    "    def jednakost(self, elementi):\n",
    "        mapaSelfListe = {}\n",
    "        mapaElementi = {}\n",
    "\n",
    "        for i in self.lista:\n",
    "            if(i in mapaSelfListe.keys()):\n",
    "                mapaSelfListe[i] += 1\n",
    "            else:\n",
    "                mapaSelfListe[i] = 1\n",
    "        for i in elementi:\n",
    "            if(i in mapaElementi.keys()):\n",
    "                mapaElementi[i] += 1\n",
    "            else:\n",
    "                mapaElementi[i] = 1\n",
    "\n",
    "        return mapaElementi == mapaSelfListe\n",
    "\n",
    "    def setAnagram3(self, s1, s2):\n",
    "        if len(s1) != len(s2):\n",
    "            return False\n",
    "        s1 = Multiset(s1)\n",
    "\n",
    "        return not (s1.razlika(s2))\n",
    "    \n",
    "\n",
    "\n",
    "test = Multiset([4,4,5])\n",
    "print(test.provjera_elementa(4))\n",
    "print(test.unija([8,8,9,4]))\n",
    "print(test.presjek([4,6,7,4,4]))\n",
    "print(test.razlika([4,6,7,4,4]))\n",
    "print(test.jednakost([4,5,4]))\n",
    "print()\n",
    "print(test.setAnagram3(\"jido\", \"ojid\"))\n",
    "print()\n",
    "\n",
    "test = MultisetSamostalni([4,4,5])\n",
    "print(test.provjera_elementa(4))\n",
    "print(test.unija([8,8,9,4]))\n",
    "print(test.presjek([4,6,7,4,4]))\n",
    "print(test.razlika([4,6,7,4,4]))\n",
    "print(test.jednakost([4,5,4]))"
   ]
  },
  {
   "cell_type": "code",
   "execution_count": 26,
   "metadata": {},
   "outputs": [
    {
     "output_type": "stream",
     "name": "stdout",
     "text": [
      "{'pl': [4, 5, 4, 5]}\n"
     ]
    }
   ],
   "source": [
    "#40\n",
    "\n",
    "def spoji_mape1(m1, m2):\n",
    "    m3 = {}\n",
    "    \n",
    "    for k in m1.keys():\n",
    "        if(k in m2.keys()):\n",
    "            if( (type(m1[k]) != type(list())) &\n",
    "                (type(m2[k]) != type(list())) ):\n",
    "                m3[k] = [m1[k], m2[k]]\n",
    "\n",
    "    print(m3)\n",
    "\n",
    "def spoji_mape2(m1, m2):\n",
    "    m3 = {}\n",
    "    \n",
    "    for k in m1.keys():\n",
    "        if(k in m2.keys()):\n",
    "            if( (type(m1[k]) == type(list())) &\n",
    "                (type(m2[k]) != type(list())) ):\n",
    "                m1[k].append(m2[k])\n",
    "                m3[k] = m1[k]\n",
    "\n",
    "    print(m3)\n",
    "\n",
    "def spoji_mape3(m1, m2):\n",
    "    m3 = {}\n",
    "    \n",
    "    for k in m1.keys():\n",
    "        if(k in m2.keys()):\n",
    "            if( type(m1[k]) == type(m2[k]) == type(list()) ):\n",
    "                m3[k] = m1[k] + m2[k]\n",
    "\n",
    "    print(m3)\n",
    "\n",
    "\n",
    "spoji_mape3({ \"pe\":3, \"pu\":1, \"pa\":7, \"pp\":[3,5], \"pl\":[4,5] },\n",
    "        { \"pe\":4, \"pudf\":1, \"pa\":7, \"pp\":set([3,5]), \"pl\":[4,5] })"
   ]
  },
  {
   "cell_type": "code",
   "execution_count": 64,
   "metadata": {},
   "outputs": [
    {
     "output_type": "stream",
     "name": "stdout",
     "text": [
      "{   20: [   ['Team2', 'Name3', 'Position2'],\n            ['Team1', 'Name1', 'Position1'],\n            ['Team2', 'Name1', 'Position4'],\n            ['Team2', 'Name3', 'Position1']],\n    24: [['Team3', 'Name4', 'Position2']],\n    25: [['Team3', 'Name1', 'Position2']],\n    28: [['Team2', 'Name2', 'Position4']],\n    'Team1': [['Name1', 'Position1', 20]],\n    'Team2': [   ['Name2', 'Position4', 28],\n                 ['Name3', 'Position2', 20],\n                 ['Name1', 'Position4', 20],\n                 ['Name3', 'Position1', 20]],\n    'Team3': [['Name4', 'Position2', 24], ['Name1', 'Position2', 25]]}\n"
     ]
    }
   ],
   "source": [
    "#41\n",
    "\n",
    "import pprint\n",
    "\n",
    "def groupby(data, *variables):\n",
    "    groups = {}\n",
    "\n",
    "    for i,var in enumerate(data[0]):\n",
    "        if(var in variables):\n",
    "            for j in range(1, len(data)):\n",
    "                if(data[j][i] not in groups):\n",
    "                    groups[data[j][i]] = []\n",
    "\n",
    "                    group = []\n",
    "                    for i2 in range(len(data[j])):\n",
    "                        if(i != i2):\n",
    "                            group.append(data[j][i2])\n",
    "\n",
    "                    groups[data[j][i]].append(group)\n",
    "                else:\n",
    "                    group = []\n",
    "                    for i2 in range(len(data[j])):\n",
    "                        if(i != i2):\n",
    "                            group.append(data[j][i2])\n",
    "\n",
    "                    groups[data[j][i]].append(group) \n",
    "\n",
    "\n",
    "    pp = pprint.PrettyPrinter(indent=4)\n",
    "    pp.pprint(groups)\n",
    "\n",
    "\n",
    "groupby([[\"Team\", \"Name\", \"Position\", \"Age\"],\n",
    "        [\"Team2\", \"Name2\", \"Position4\", 28],\n",
    "        [\"Team2\", \"Name3\", \"Position2\", 20],\n",
    "        [\"Team3\", \"Name4\", \"Position2\", 24],\n",
    "        [\"Team1\", \"Name1\", \"Position1\", 20],\n",
    "        [\"Team3\", \"Name1\", \"Position2\", 25],\n",
    "        [\"Team2\", \"Name1\", \"Position4\", 20],\n",
    "        [\"Team2\", \"Name3\", \"Position1\", 20]], \"Team\", \"Age\")"
   ]
  },
  {
   "cell_type": "code",
   "execution_count": null,
   "metadata": {},
   "outputs": [],
   "source": []
  }
 ]
}